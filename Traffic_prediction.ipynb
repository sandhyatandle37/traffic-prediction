{
 "cells": [
  {
   "cell_type": "code",
   "execution_count": 1,
   "metadata": {},
   "outputs": [],
   "source": [
    "#importing libraries\n",
    "import numpy as np\n",
    "import pandas as pd\n",
    "import matplotlib.pyplot as plt"
   ]
  },
  {
   "cell_type": "code",
   "execution_count": 2,
   "metadata": {},
   "outputs": [],
   "source": [
    "#import dataset\n",
    "data=pd.read_csv('Dataset.csv')"
   ]
  },
  {
   "cell_type": "code",
   "execution_count": 6,
   "metadata": {},
   "outputs": [
    {
     "data": {
      "text/html": [
       "<div>\n",
       "<style scoped>\n",
       "    .dataframe tbody tr th:only-of-type {\n",
       "        vertical-align: middle;\n",
       "    }\n",
       "\n",
       "    .dataframe tbody tr th {\n",
       "        vertical-align: top;\n",
       "    }\n",
       "\n",
       "    .dataframe thead th {\n",
       "        text-align: right;\n",
       "    }\n",
       "</style>\n",
       "<table border=\"1\" class=\"dataframe\">\n",
       "  <thead>\n",
       "    <tr style=\"text-align: right;\">\n",
       "      <th></th>\n",
       "      <th>Day</th>\n",
       "      <th>Date</th>\n",
       "      <th>CodedDay</th>\n",
       "      <th>Zone</th>\n",
       "      <th>Weather</th>\n",
       "      <th>Temperature</th>\n",
       "      <th>Traffic</th>\n",
       "    </tr>\n",
       "  </thead>\n",
       "  <tbody>\n",
       "    <tr>\n",
       "      <th>1429</th>\n",
       "      <td>Friday</td>\n",
       "      <td>10-06-18</td>\n",
       "      <td>5</td>\n",
       "      <td>135</td>\n",
       "      <td>18</td>\n",
       "      <td>25</td>\n",
       "      <td>4</td>\n",
       "    </tr>\n",
       "    <tr>\n",
       "      <th>1430</th>\n",
       "      <td>Friday</td>\n",
       "      <td>10-06-18</td>\n",
       "      <td>5</td>\n",
       "      <td>136</td>\n",
       "      <td>31</td>\n",
       "      <td>8</td>\n",
       "      <td>2</td>\n",
       "    </tr>\n",
       "    <tr>\n",
       "      <th>1431</th>\n",
       "      <td>Friday</td>\n",
       "      <td>10-06-18</td>\n",
       "      <td>5</td>\n",
       "      <td>137</td>\n",
       "      <td>13</td>\n",
       "      <td>11</td>\n",
       "      <td>4</td>\n",
       "    </tr>\n",
       "    <tr>\n",
       "      <th>1432</th>\n",
       "      <td>Friday</td>\n",
       "      <td>10-06-18</td>\n",
       "      <td>5</td>\n",
       "      <td>138</td>\n",
       "      <td>34</td>\n",
       "      <td>15</td>\n",
       "      <td>1</td>\n",
       "    </tr>\n",
       "    <tr>\n",
       "      <th>1433</th>\n",
       "      <td>Friday</td>\n",
       "      <td>10-06-18</td>\n",
       "      <td>5</td>\n",
       "      <td>139</td>\n",
       "      <td>5</td>\n",
       "      <td>43</td>\n",
       "      <td>4</td>\n",
       "    </tr>\n",
       "    <tr>\n",
       "      <th>1434</th>\n",
       "      <td>Friday</td>\n",
       "      <td>10-06-18</td>\n",
       "      <td>5</td>\n",
       "      <td>140</td>\n",
       "      <td>47</td>\n",
       "      <td>38</td>\n",
       "      <td>1</td>\n",
       "    </tr>\n",
       "    <tr>\n",
       "      <th>1435</th>\n",
       "      <td>Friday</td>\n",
       "      <td>10-06-18</td>\n",
       "      <td>5</td>\n",
       "      <td>141</td>\n",
       "      <td>15</td>\n",
       "      <td>8</td>\n",
       "      <td>4</td>\n",
       "    </tr>\n",
       "    <tr>\n",
       "      <th>1436</th>\n",
       "      <td>Friday</td>\n",
       "      <td>10-06-18</td>\n",
       "      <td>5</td>\n",
       "      <td>142</td>\n",
       "      <td>26</td>\n",
       "      <td>38</td>\n",
       "      <td>1</td>\n",
       "    </tr>\n",
       "    <tr>\n",
       "      <th>1437</th>\n",
       "      <td>Friday</td>\n",
       "      <td>10-06-18</td>\n",
       "      <td>5</td>\n",
       "      <td>143</td>\n",
       "      <td>16</td>\n",
       "      <td>34</td>\n",
       "      <td>3</td>\n",
       "    </tr>\n",
       "    <tr>\n",
       "      <th>1438</th>\n",
       "      <td>Friday</td>\n",
       "      <td>10-06-18</td>\n",
       "      <td>5</td>\n",
       "      <td>144</td>\n",
       "      <td>16</td>\n",
       "      <td>17</td>\n",
       "      <td>1</td>\n",
       "    </tr>\n",
       "  </tbody>\n",
       "</table>\n",
       "</div>"
      ],
      "text/plain": [
       "         Day      Date  CodedDay  Zone  Weather  Temperature  Traffic\n",
       "1429  Friday  10-06-18         5   135       18           25        4\n",
       "1430  Friday  10-06-18         5   136       31            8        2\n",
       "1431  Friday  10-06-18         5   137       13           11        4\n",
       "1432  Friday  10-06-18         5   138       34           15        1\n",
       "1433  Friday  10-06-18         5   139        5           43        4\n",
       "1434  Friday  10-06-18         5   140       47           38        1\n",
       "1435  Friday  10-06-18         5   141       15            8        4\n",
       "1436  Friday  10-06-18         5   142       26           38        1\n",
       "1437  Friday  10-06-18         5   143       16           34        3\n",
       "1438  Friday  10-06-18         5   144       16           17        1"
      ]
     },
     "execution_count": 6,
     "metadata": {},
     "output_type": "execute_result"
    }
   ],
   "source": [
    "data.tail(10)"
   ]
  },
  {
   "cell_type": "code",
   "execution_count": 7,
   "metadata": {},
   "outputs": [
    {
     "name": "stdout",
     "output_type": "stream",
     "text": [
      "<class 'pandas.core.frame.DataFrame'>\n",
      "RangeIndex: 1439 entries, 0 to 1438\n",
      "Data columns (total 7 columns):\n",
      " #   Column       Non-Null Count  Dtype \n",
      "---  ------       --------------  ----- \n",
      " 0   Day          1439 non-null   object\n",
      " 1   Date         1439 non-null   object\n",
      " 2   CodedDay     1439 non-null   int64 \n",
      " 3   Zone         1439 non-null   int64 \n",
      " 4   Weather      1439 non-null   int64 \n",
      " 5   Temperature  1439 non-null   int64 \n",
      " 6   Traffic      1439 non-null   int64 \n",
      "dtypes: int64(5), object(2)\n",
      "memory usage: 78.8+ KB\n"
     ]
    }
   ],
   "source": [
    "data.info()"
   ]
  },
  {
   "cell_type": "code",
   "execution_count": 8,
   "metadata": {},
   "outputs": [],
   "source": [
    "from sklearn.preprocessing import LabelEncoder"
   ]
  },
  {
   "cell_type": "code",
   "execution_count": 9,
   "metadata": {},
   "outputs": [],
   "source": [
    "le=LabelEncoder()"
   ]
  },
  {
   "cell_type": "code",
   "execution_count": 11,
   "metadata": {},
   "outputs": [
    {
     "data": {
      "text/html": [
       "<div>\n",
       "<style scoped>\n",
       "    .dataframe tbody tr th:only-of-type {\n",
       "        vertical-align: middle;\n",
       "    }\n",
       "\n",
       "    .dataframe tbody tr th {\n",
       "        vertical-align: top;\n",
       "    }\n",
       "\n",
       "    .dataframe thead th {\n",
       "        text-align: right;\n",
       "    }\n",
       "</style>\n",
       "<table border=\"1\" class=\"dataframe\">\n",
       "  <thead>\n",
       "    <tr style=\"text-align: right;\">\n",
       "      <th></th>\n",
       "      <th>Day</th>\n",
       "      <th>Date</th>\n",
       "      <th>CodedDay</th>\n",
       "      <th>Zone</th>\n",
       "      <th>Weather</th>\n",
       "      <th>Temperature</th>\n",
       "      <th>Traffic</th>\n",
       "    </tr>\n",
       "  </thead>\n",
       "  <tbody>\n",
       "    <tr>\n",
       "      <th>0</th>\n",
       "      <td>Wednesday</td>\n",
       "      <td>0</td>\n",
       "      <td>3</td>\n",
       "      <td>2</td>\n",
       "      <td>35</td>\n",
       "      <td>17</td>\n",
       "      <td>2</td>\n",
       "    </tr>\n",
       "    <tr>\n",
       "      <th>1</th>\n",
       "      <td>Wednesday</td>\n",
       "      <td>0</td>\n",
       "      <td>3</td>\n",
       "      <td>3</td>\n",
       "      <td>36</td>\n",
       "      <td>16</td>\n",
       "      <td>3</td>\n",
       "    </tr>\n",
       "    <tr>\n",
       "      <th>2</th>\n",
       "      <td>Wednesday</td>\n",
       "      <td>0</td>\n",
       "      <td>3</td>\n",
       "      <td>4</td>\n",
       "      <td>27</td>\n",
       "      <td>25</td>\n",
       "      <td>5</td>\n",
       "    </tr>\n",
       "    <tr>\n",
       "      <th>3</th>\n",
       "      <td>Wednesday</td>\n",
       "      <td>0</td>\n",
       "      <td>3</td>\n",
       "      <td>5</td>\n",
       "      <td>23</td>\n",
       "      <td>23</td>\n",
       "      <td>3</td>\n",
       "    </tr>\n",
       "    <tr>\n",
       "      <th>4</th>\n",
       "      <td>Wednesday</td>\n",
       "      <td>0</td>\n",
       "      <td>3</td>\n",
       "      <td>6</td>\n",
       "      <td>18</td>\n",
       "      <td>42</td>\n",
       "      <td>2</td>\n",
       "    </tr>\n",
       "    <tr>\n",
       "      <th>...</th>\n",
       "      <td>...</td>\n",
       "      <td>...</td>\n",
       "      <td>...</td>\n",
       "      <td>...</td>\n",
       "      <td>...</td>\n",
       "      <td>...</td>\n",
       "      <td>...</td>\n",
       "    </tr>\n",
       "    <tr>\n",
       "      <th>1434</th>\n",
       "      <td>Friday</td>\n",
       "      <td>9</td>\n",
       "      <td>5</td>\n",
       "      <td>140</td>\n",
       "      <td>47</td>\n",
       "      <td>38</td>\n",
       "      <td>1</td>\n",
       "    </tr>\n",
       "    <tr>\n",
       "      <th>1435</th>\n",
       "      <td>Friday</td>\n",
       "      <td>9</td>\n",
       "      <td>5</td>\n",
       "      <td>141</td>\n",
       "      <td>15</td>\n",
       "      <td>8</td>\n",
       "      <td>4</td>\n",
       "    </tr>\n",
       "    <tr>\n",
       "      <th>1436</th>\n",
       "      <td>Friday</td>\n",
       "      <td>9</td>\n",
       "      <td>5</td>\n",
       "      <td>142</td>\n",
       "      <td>26</td>\n",
       "      <td>38</td>\n",
       "      <td>1</td>\n",
       "    </tr>\n",
       "    <tr>\n",
       "      <th>1437</th>\n",
       "      <td>Friday</td>\n",
       "      <td>9</td>\n",
       "      <td>5</td>\n",
       "      <td>143</td>\n",
       "      <td>16</td>\n",
       "      <td>34</td>\n",
       "      <td>3</td>\n",
       "    </tr>\n",
       "    <tr>\n",
       "      <th>1438</th>\n",
       "      <td>Friday</td>\n",
       "      <td>9</td>\n",
       "      <td>5</td>\n",
       "      <td>144</td>\n",
       "      <td>16</td>\n",
       "      <td>17</td>\n",
       "      <td>1</td>\n",
       "    </tr>\n",
       "  </tbody>\n",
       "</table>\n",
       "<p>1439 rows × 7 columns</p>\n",
       "</div>"
      ],
      "text/plain": [
       "            Day  Date  CodedDay  Zone  Weather  Temperature  Traffic\n",
       "0     Wednesday     0         3     2       35           17        2\n",
       "1     Wednesday     0         3     3       36           16        3\n",
       "2     Wednesday     0         3     4       27           25        5\n",
       "3     Wednesday     0         3     5       23           23        3\n",
       "4     Wednesday     0         3     6       18           42        2\n",
       "...         ...   ...       ...   ...      ...          ...      ...\n",
       "1434     Friday     9         5   140       47           38        1\n",
       "1435     Friday     9         5   141       15            8        4\n",
       "1436     Friday     9         5   142       26           38        1\n",
       "1437     Friday     9         5   143       16           34        3\n",
       "1438     Friday     9         5   144       16           17        1\n",
       "\n",
       "[1439 rows x 7 columns]"
      ]
     },
     "execution_count": 11,
     "metadata": {},
     "output_type": "execute_result"
    }
   ],
   "source": [
    "data['Date']=le.fit_transform(data['Date'])\n",
    "data"
   ]
  },
  {
   "cell_type": "code",
   "execution_count": 12,
   "metadata": {},
   "outputs": [
    {
     "name": "stdout",
     "output_type": "stream",
     "text": [
      "<class 'pandas.core.frame.DataFrame'>\n",
      "RangeIndex: 1439 entries, 0 to 1438\n",
      "Data columns (total 7 columns):\n",
      " #   Column       Non-Null Count  Dtype \n",
      "---  ------       --------------  ----- \n",
      " 0   Day          1439 non-null   object\n",
      " 1   Date         1439 non-null   int32 \n",
      " 2   CodedDay     1439 non-null   int64 \n",
      " 3   Zone         1439 non-null   int64 \n",
      " 4   Weather      1439 non-null   int64 \n",
      " 5   Temperature  1439 non-null   int64 \n",
      " 6   Traffic      1439 non-null   int64 \n",
      "dtypes: int32(1), int64(5), object(1)\n",
      "memory usage: 73.2+ KB\n"
     ]
    }
   ],
   "source": [
    "data.info()"
   ]
  },
  {
   "cell_type": "code",
   "execution_count": 13,
   "metadata": {},
   "outputs": [],
   "source": [
    "x=data.iloc[:,2:6].values\n",
    "y=data.iloc[:,6:7].values"
   ]
  },
  {
   "cell_type": "code",
   "execution_count": 14,
   "metadata": {},
   "outputs": [
    {
     "data": {
      "text/plain": [
       "array([[  3,   2,  35,  17],\n",
       "       [  3,   3,  36,  16],\n",
       "       [  3,   4,  27,  25],\n",
       "       ...,\n",
       "       [  5, 142,  26,  38],\n",
       "       [  5, 143,  16,  34],\n",
       "       [  5, 144,  16,  17]], dtype=int64)"
      ]
     },
     "execution_count": 14,
     "metadata": {},
     "output_type": "execute_result"
    }
   ],
   "source": [
    "x"
   ]
  },
  {
   "cell_type": "code",
   "execution_count": 15,
   "metadata": {},
   "outputs": [
    {
     "data": {
      "text/plain": [
       "(1439, 4)"
      ]
     },
     "execution_count": 15,
     "metadata": {},
     "output_type": "execute_result"
    }
   ],
   "source": [
    "x.shape"
   ]
  },
  {
   "cell_type": "code",
   "execution_count": 16,
   "metadata": {},
   "outputs": [
    {
     "data": {
      "text/plain": [
       "array([[2],\n",
       "       [3],\n",
       "       [5],\n",
       "       ...,\n",
       "       [1],\n",
       "       [3],\n",
       "       [1]], dtype=int64)"
      ]
     },
     "execution_count": 16,
     "metadata": {},
     "output_type": "execute_result"
    }
   ],
   "source": [
    "y"
   ]
  },
  {
   "cell_type": "code",
   "execution_count": 17,
   "metadata": {},
   "outputs": [
    {
     "data": {
      "text/plain": [
       "(1439, 1)"
      ]
     },
     "execution_count": 17,
     "metadata": {},
     "output_type": "execute_result"
    }
   ],
   "source": [
    "y.shape"
   ]
  },
  {
   "cell_type": "code",
   "execution_count": 18,
   "metadata": {},
   "outputs": [],
   "source": [
    "from sklearn.model_selection import train_test_split"
   ]
  },
  {
   "cell_type": "code",
   "execution_count": 19,
   "metadata": {},
   "outputs": [],
   "source": [
    "x_train,x_test,y_train,y_test=train_test_split(x,y,test_size=0.20,random_state=0)"
   ]
  },
  {
   "cell_type": "code",
   "execution_count": 21,
   "metadata": {},
   "outputs": [
    {
     "data": {
      "text/plain": [
       "((1151, 4), (1151, 1))"
      ]
     },
     "execution_count": 21,
     "metadata": {},
     "output_type": "execute_result"
    }
   ],
   "source": [
    "x_train.shape,y_train.shape"
   ]
  },
  {
   "cell_type": "code",
   "execution_count": 22,
   "metadata": {},
   "outputs": [
    {
     "data": {
      "text/plain": [
       "((288, 4), (288, 1))"
      ]
     },
     "execution_count": 22,
     "metadata": {},
     "output_type": "execute_result"
    }
   ],
   "source": [
    "x_test.shape,y_test.shape"
   ]
  },
  {
   "cell_type": "code",
   "execution_count": 23,
   "metadata": {},
   "outputs": [],
   "source": [
    "#feature Scaling\n",
    "\n",
    "from sklearn.preprocessing import StandardScaler"
   ]
  },
  {
   "cell_type": "code",
   "execution_count": 24,
   "metadata": {},
   "outputs": [],
   "source": [
    "sc=StandardScaler()"
   ]
  },
  {
   "cell_type": "code",
   "execution_count": 25,
   "metadata": {},
   "outputs": [],
   "source": [
    "x_train=sc.fit_transform(x_train)\n",
    "x_test=sc.fit_transform(x_test)"
   ]
  },
  {
   "cell_type": "code",
   "execution_count": 26,
   "metadata": {},
   "outputs": [
    {
     "data": {
      "text/plain": [
       "array([[ 1.14531281e+00,  2.11762730e-01,  1.62298702e+00,\n",
       "        -1.49262367e+00],\n",
       "       [ 1.14531281e+00, -5.11784378e-01, -1.51679228e-01,\n",
       "        -6.41479902e-02],\n",
       "       [-5.70420435e-01, -7.04730273e-01,  1.54904259e+00,\n",
       "        -1.53427720e-01],\n",
       "       ...,\n",
       "       [ 1.49064574e-03, -1.74129061e-01, -8.17179071e-01,\n",
       "        -5.10546640e-01],\n",
       "       [ 1.14531281e+00,  1.34531987e+00, -1.51679228e-01,\n",
       "        -5.99826371e-01],\n",
       "       [ 1.71722389e+00,  8.87073364e-01,  1.25326488e+00,\n",
       "         1.36432769e+00]])"
      ]
     },
     "execution_count": 26,
     "metadata": {},
     "output_type": "execute_result"
    }
   ],
   "source": [
    "x_train"
   ]
  },
  {
   "cell_type": "code",
   "execution_count": 29,
   "metadata": {},
   "outputs": [],
   "source": [
    "#random foresrt\n",
    "from sklearn.ensemble import RandomForestRegressor\n",
    "regressor=RandomForestRegressor(n_estimators=300,\n",
    "                                random_state=0)\n"
   ]
  },
  {
   "cell_type": "code",
   "execution_count": 30,
   "metadata": {},
   "outputs": [
    {
     "name": "stderr",
     "output_type": "stream",
     "text": [
      "C:\\Users\\Software\\Anaconda3\\lib\\site-packages\\ipykernel_launcher.py:1: DataConversionWarning: A column-vector y was passed when a 1d array was expected. Please change the shape of y to (n_samples,), for example using ravel().\n",
      "  \"\"\"Entry point for launching an IPython kernel.\n"
     ]
    },
    {
     "data": {
      "text/plain": [
       "RandomForestRegressor(n_estimators=300, random_state=0)"
      ]
     },
     "execution_count": 30,
     "metadata": {},
     "output_type": "execute_result"
    }
   ],
   "source": [
    "regressor.fit(x_train,y_train)"
   ]
  },
  {
   "cell_type": "code",
   "execution_count": 31,
   "metadata": {},
   "outputs": [],
   "source": [
    "y_pred=regressor.predict(x_test)"
   ]
  },
  {
   "cell_type": "code",
   "execution_count": 32,
   "metadata": {},
   "outputs": [
    {
     "data": {
      "text/plain": [
       "array([3.49666667, 3.77666667, 2.59333333, 3.78333333, 2.30333333,\n",
       "       2.54333333, 3.01      , 2.62333333, 3.61666667, 2.25333333,\n",
       "       3.16      , 3.01666667, 2.71333333, 2.76666667, 3.79      ,\n",
       "       2.29333333, 2.41666667, 3.06333333, 3.28333333, 2.98      ,\n",
       "       3.47666667, 2.5       , 3.03333333, 2.4       , 2.63      ,\n",
       "       2.94      , 2.20666667, 3.36333333, 2.53333333, 2.79666667,\n",
       "       2.69666667, 3.2       , 3.27      , 2.18      , 3.07      ,\n",
       "       2.13666667, 3.36      , 4.08333333, 2.99      , 3.11666667,\n",
       "       2.79      , 3.82      , 2.72      , 3.91333333, 3.34      ,\n",
       "       3.58333333, 3.17      , 2.55666667, 2.41      , 3.57      ,\n",
       "       4.12333333, 3.51      , 3.86      , 2.78333333, 3.16333333,\n",
       "       3.04      , 3.14      , 2.64333333, 2.76333333, 2.45666667,\n",
       "       3.27333333, 2.67333333, 2.97333333, 1.59666667, 3.05      ,\n",
       "       3.74333333, 3.04666667, 3.90666667, 2.55666667, 3.29333333,\n",
       "       2.85      , 3.33333333, 3.15333333, 3.18333333, 2.79      ,\n",
       "       3.60333333, 3.62      , 2.61      , 2.06333333, 3.48666667,\n",
       "       2.55      , 2.95333333, 3.13      , 2.13666667, 3.02666667,\n",
       "       3.42333333, 3.11333333, 3.52333333, 3.88666667, 2.70666667,\n",
       "       3.17666667, 2.38333333, 2.95333333, 3.47333333, 2.67333333,\n",
       "       3.06333333, 2.24333333, 3.20333333, 3.82      , 3.72666667,\n",
       "       2.48666667, 2.39333333, 2.64333333, 2.08666667, 3.29      ,\n",
       "       2.24      , 3.30666667, 2.05      , 2.92666667, 3.22333333,\n",
       "       2.84666667, 3.74666667, 2.63666667, 2.58333333, 3.52333333,\n",
       "       3.29      , 3.13      , 2.70666667, 3.29333333, 2.17666667,\n",
       "       3.05      , 3.69      , 2.98      , 2.97      , 3.26666667,\n",
       "       3.96333333, 2.99333333, 3.79333333, 4.30333333, 1.65666667,\n",
       "       2.82333333, 3.64666667, 3.40666667, 2.47333333, 3.35      ,\n",
       "       3.04666667, 3.30666667, 3.23333333, 3.1       , 3.08333333,\n",
       "       3.54666667, 3.91666667, 2.75666667, 3.18333333, 3.12333333,\n",
       "       2.63      , 3.17333333, 3.26      , 3.50666667, 2.8       ,\n",
       "       2.88666667, 2.93666667, 3.65333333, 2.94      , 3.70666667,\n",
       "       2.73666667, 3.79333333, 2.29      , 3.46333333, 3.19      ,\n",
       "       2.70666667, 2.57333333, 3.04      , 2.23666667, 2.9       ,\n",
       "       2.86666667, 3.11      , 2.26333333, 2.62333333, 3.07333333,\n",
       "       3.74333333, 3.32333333, 2.52333333, 3.65666667, 3.67333333,\n",
       "       2.94      , 2.78      , 2.84666667, 2.54666667, 2.92666667,\n",
       "       2.40666667, 3.85333333, 3.04333333, 3.34666667, 2.77333333,\n",
       "       3.56333333, 2.83666667, 2.66666667, 2.73333333, 2.94333333,\n",
       "       1.79666667, 2.67333333, 3.57666667, 2.48      , 3.04      ,\n",
       "       2.07333333, 2.47666667, 2.65      , 2.63666667, 4.35666667,\n",
       "       3.05      , 3.15333333, 2.83      , 3.00666667, 3.43666667,\n",
       "       3.47      , 3.00333333, 3.30666667, 3.56      , 3.12      ,\n",
       "       3.19666667, 1.87666667, 3.17333333, 3.7       , 2.79      ,\n",
       "       3.95666667, 3.66333333, 3.28666667, 2.33      , 3.37      ,\n",
       "       3.35666667, 3.80666667, 2.43666667, 3.41333333, 3.32      ,\n",
       "       2.64333333, 2.90666667, 3.17333333, 2.84666667, 2.37      ,\n",
       "       2.23      , 3.71333333, 3.31      , 3.22      , 2.95      ,\n",
       "       2.39      , 3.52      , 2.68333333, 1.84333333, 2.64333333,\n",
       "       2.53666667, 3.04      , 2.31333333, 3.63      , 2.87333333,\n",
       "       3.83      , 3.44      , 2.78333333, 2.79666667, 2.95333333,\n",
       "       2.65333333, 2.82333333, 3.39      , 2.84333333, 2.73333333,\n",
       "       3.31666667, 2.19666667, 3.73333333, 3.10666667, 1.83666667,\n",
       "       2.79      , 2.80333333, 3.74333333, 3.03666667, 3.37333333,\n",
       "       2.67666667, 2.63666667, 3.49333333, 3.57333333, 2.63333333,\n",
       "       3.61      , 2.76666667, 3.01666667, 2.85      , 3.49666667,\n",
       "       2.83333333, 3.37666667, 2.84333333, 2.48333333, 4.12333333,\n",
       "       2.41666667, 3.04      , 2.71      , 2.94333333, 2.42333333,\n",
       "       3.37333333, 2.86      , 3.64      ])"
      ]
     },
     "execution_count": 32,
     "metadata": {},
     "output_type": "execute_result"
    }
   ],
   "source": [
    "y_pred"
   ]
  },
  {
   "cell_type": "code",
   "execution_count": 33,
   "metadata": {},
   "outputs": [
    {
     "data": {
      "text/plain": [
       "array([3., 3., 2., 3., 2., 2., 3., 2., 3., 2., 3., 3., 2., 2., 3., 2., 2.,\n",
       "       3., 3., 2., 3., 2., 3., 2., 2., 2., 2., 3., 2., 2., 2., 3., 3., 2.,\n",
       "       3., 2., 3., 4., 2., 3., 2., 3., 2., 3., 3., 3., 3., 2., 2., 3., 4.,\n",
       "       3., 3., 2., 3., 3., 3., 2., 2., 2., 3., 2., 2., 1., 3., 3., 3., 3.,\n",
       "       2., 3., 2., 3., 3., 3., 2., 3., 3., 2., 2., 3., 2., 2., 3., 2., 3.,\n",
       "       3., 3., 3., 3., 2., 3., 2., 2., 3., 2., 3., 2., 3., 3., 3., 2., 2.,\n",
       "       2., 2., 3., 2., 3., 2., 2., 3., 2., 3., 2., 2., 3., 3., 3., 2., 3.,\n",
       "       2., 3., 3., 2., 2., 3., 3., 2., 3., 4., 1., 2., 3., 3., 2., 3., 3.,\n",
       "       3., 3., 3., 3., 3., 3., 2., 3., 3., 2., 3., 3., 3., 2., 2., 2., 3.,\n",
       "       2., 3., 2., 3., 2., 3., 3., 2., 2., 3., 2., 2., 2., 3., 2., 2., 3.,\n",
       "       3., 3., 2., 3., 3., 2., 2., 2., 2., 2., 2., 3., 3., 3., 2., 3., 2.,\n",
       "       2., 2., 2., 1., 2., 3., 2., 3., 2., 2., 2., 2., 4., 3., 3., 2., 3.,\n",
       "       3., 3., 3., 3., 3., 3., 3., 1., 3., 3., 2., 3., 3., 3., 2., 3., 3.,\n",
       "       3., 2., 3., 3., 2., 2., 3., 2., 2., 2., 3., 3., 3., 2., 2., 3., 2.,\n",
       "       1., 2., 2., 3., 2., 3., 2., 3., 3., 2., 2., 2., 2., 2., 3., 2., 2.,\n",
       "       3., 2., 3., 3., 1., 2., 2., 3., 3., 3., 2., 2., 3., 3., 2., 3., 2.,\n",
       "       3., 2., 3., 2., 3., 2., 2., 4., 2., 3., 2., 2., 2., 3., 2., 3.])"
      ]
     },
     "execution_count": 33,
     "metadata": {},
     "output_type": "execute_result"
    }
   ],
   "source": [
    "if(y_pred.all()<2.5):\n",
    "    y_pred=np.round(y_pred-0.5)\n",
    "else:\n",
    "    y_pred=np.round(y_pred+0.5)\n",
    "y_pred"
   ]
  },
  {
   "cell_type": "code",
   "execution_count": 34,
   "metadata": {},
   "outputs": [
    {
     "name": "stdout",
     "output_type": "stream",
     "text": [
      "Error= 13.42 %\n"
     ]
    }
   ],
   "source": [
    "df=(y_pred-y_test)/y_test\n",
    "df=round(df.mean()*100,2)\n",
    "print(\"Error=\",df,\"%\")"
   ]
  },
  {
   "cell_type": "code",
   "execution_count": 35,
   "metadata": {},
   "outputs": [
    {
     "name": "stdout",
     "output_type": "stream",
     "text": [
      "Accuracy= 86.58 %\n"
     ]
    }
   ],
   "source": [
    "a=100-df\n",
    "print(\"Accuracy=\",a,\"%\")"
   ]
  },
  {
   "cell_type": "code",
   "execution_count": 36,
   "metadata": {},
   "outputs": [
    {
     "name": "stderr",
     "output_type": "stream",
     "text": [
      "C:\\Users\\Software\\Anaconda3\\lib\\site-packages\\sklearn\\utils\\validation.py:63: DataConversionWarning: A column-vector y was passed when a 1d array was expected. Please change the shape of y to (n_samples, ), for example using ravel().\n",
      "  return f(*args, **kwargs)\n"
     ]
    },
    {
     "data": {
      "text/plain": [
       "array([2.48568787, 3.83075078, 3.2936518 , 3.1673047 , 2.92523973,\n",
       "       2.31572795, 2.36996983, 2.19128844, 3.66497598, 2.56215864,\n",
       "       3.09770455, 3.37561416, 2.86955855, 2.70819912, 2.51284476,\n",
       "       2.60066084, 2.4309671 , 2.37138504, 3.18637153, 2.83358309,\n",
       "       3.60021418, 2.48652871, 3.03685709, 2.39762196, 2.497879  ,\n",
       "       3.11026378, 2.99161215, 3.69680818, 3.09097039, 2.62917555,\n",
       "       2.84167464, 3.26385761, 2.957667  , 3.15259094, 3.1129895 ,\n",
       "       2.65382723, 2.64573348, 4.17701652, 3.1214746 , 2.59892333,\n",
       "       2.54551056, 3.67757031, 2.76428867, 3.82274378, 3.06953225,\n",
       "       2.93527699, 2.77584091, 2.67888664, 2.3393692 , 3.94660356,\n",
       "       2.98060755, 3.72745618, 4.06289067, 3.18461613, 2.79760641,\n",
       "       3.16032156, 2.40107766, 3.05992469, 2.50326614, 3.14948545,\n",
       "       2.0258538 , 2.39031143, 2.5313014 , 2.06376862, 3.25822173,\n",
       "       3.8331732 , 2.91792523, 4.16926464, 2.99944268, 2.72893788,\n",
       "       2.7935679 , 3.48603414, 3.09625424, 3.2274822 , 3.1877698 ,\n",
       "       3.1412397 , 3.34430832, 2.67296499, 2.60448657, 3.05688571,\n",
       "       1.89781436, 2.80615316, 3.03905493, 3.21732211, 2.68923666,\n",
       "       2.68586496, 2.92857837, 3.68705538, 3.5105518 , 2.78635346,\n",
       "       3.16770217, 2.09719915, 3.14931621, 3.16040971, 2.34756506,\n",
       "       2.97929857, 2.58705337, 3.40824713, 3.39293322, 3.9374141 ,\n",
       "       2.37849792, 3.00871069, 2.72592051, 3.18156876, 2.13153741,\n",
       "       3.01812279, 3.11791498, 2.17607694, 3.1761826 , 2.8550817 ,\n",
       "       3.16434755, 3.1920135 , 2.83936959, 2.60467229, 3.84780699,\n",
       "       3.17861604, 2.99417862, 3.28979924, 2.95488478, 2.30669607,\n",
       "       2.95799886, 2.77125492, 3.52502281, 3.42332299, 3.06387125,\n",
       "       3.36793637, 3.18167001, 3.10368359, 3.64836723, 2.24413845,\n",
       "       2.85459664, 3.42208017, 3.15932066, 1.98435782, 4.06736121,\n",
       "       3.51295149, 3.32246528, 3.70481761, 3.87743913, 3.3851674 ,\n",
       "       2.7729928 , 3.05428736, 2.68014413, 3.71865779, 3.56637636,\n",
       "       3.10693693, 2.69362507, 2.90795588, 2.49206221, 2.38230613,\n",
       "       2.80610236, 2.2751092 , 3.35312855, 3.19958008, 2.85885598,\n",
       "       2.81472787, 2.97602789, 2.24323176, 3.53810023, 2.57869998,\n",
       "       2.54667703, 2.7750127 , 2.93120167, 2.02760259, 3.13390563,\n",
       "       3.0352923 , 2.46270591, 2.86611534, 3.01681107, 3.25683056,\n",
       "       3.33614346, 3.29854881, 3.0633859 , 3.03701775, 3.13264911,\n",
       "       3.27237022, 1.99578218, 2.96019533, 3.07517058, 2.75037391,\n",
       "       2.69742165, 3.05560167, 2.7811108 , 3.29256002, 3.09761597,\n",
       "       2.94515573, 3.67508548, 2.79910461, 2.68429918, 2.35135477,\n",
       "       1.78037451, 2.06058057, 2.78031096, 2.96887932, 2.45162779,\n",
       "       2.34716929, 2.60769396, 3.32031932, 2.83096498, 3.96318253,\n",
       "       1.95025452, 2.96047266, 2.60408857, 3.01211478, 2.76417688,\n",
       "       3.12770243, 2.8292839 , 3.48226775, 2.66415284, 3.60667452,\n",
       "       3.22824346, 1.98119445, 3.04303888, 2.61650804, 3.09453429,\n",
       "       3.77630571, 3.30109344, 3.12562853, 3.08593669, 3.42617757,\n",
       "       3.40788194, 3.81374563, 2.0364313 , 2.90612445, 2.9860682 ,\n",
       "       2.4440315 , 2.84854671, 3.02571857, 3.0058111 , 3.36237316,\n",
       "       2.92237107, 2.8212406 , 2.68600375, 3.06650889, 2.71026894,\n",
       "       2.48229778, 2.78905095, 3.05137147, 2.30409362, 3.14095599,\n",
       "       1.9830805 , 3.31410349, 2.8334792 , 3.41044366, 3.71151193,\n",
       "       2.94174763, 2.53802189, 3.32556579, 2.59622144, 2.7976202 ,\n",
       "       3.16463529, 2.89358632, 3.666639  , 2.59841178, 3.10452024,\n",
       "       3.96164453, 2.62040129, 3.54119895, 3.26069901, 2.27431143,\n",
       "       2.36339918, 2.48121324, 3.17323898, 2.35699081, 3.76301981,\n",
       "       3.24130716, 2.5939703 , 2.64012962, 3.26218151, 3.40286614,\n",
       "       3.51389568, 3.20716058, 3.20192922, 2.69489033, 3.37639684,\n",
       "       2.83542016, 3.69721289, 2.76678089, 3.25447156, 3.3156072 ,\n",
       "       2.82490969, 3.33686767, 3.06560594, 2.67029599, 2.39938476,\n",
       "       3.33374851, 3.31654043, 3.1761943 ])"
      ]
     },
     "execution_count": 36,
     "metadata": {},
     "output_type": "execute_result"
    }
   ],
   "source": [
    "#SVM\n",
    "from sklearn.svm import SVR\n",
    "regressor=SVR(kernel='rbf')\n",
    "regressor.fit(x_train,y_train)\n",
    "\n",
    "y_pred=regressor.predict(x_test)\n",
    "\n",
    "y_pred"
   ]
  },
  {
   "cell_type": "code",
   "execution_count": 37,
   "metadata": {},
   "outputs": [
    {
     "data": {
      "text/plain": [
       "array([2., 3., 3., 3., 2., 2., 2., 2., 3., 2., 3., 3., 2., 2., 2., 2., 2.,\n",
       "       2., 3., 2., 3., 2., 3., 2., 2., 3., 2., 3., 3., 2., 2., 3., 2., 3.,\n",
       "       3., 2., 2., 4., 3., 2., 2., 3., 2., 3., 3., 2., 2., 2., 2., 3., 2.,\n",
       "       3., 4., 3., 2., 3., 2., 3., 2., 3., 2., 2., 2., 2., 3., 3., 2., 4.,\n",
       "       2., 2., 2., 3., 3., 3., 3., 3., 3., 2., 2., 3., 1., 2., 3., 3., 2.,\n",
       "       2., 2., 3., 3., 2., 3., 2., 3., 3., 2., 2., 2., 3., 3., 3., 2., 3.,\n",
       "       2., 3., 2., 3., 3., 2., 3., 2., 3., 3., 2., 2., 3., 3., 2., 3., 2.,\n",
       "       2., 2., 2., 3., 3., 3., 3., 3., 3., 3., 2., 2., 3., 3., 1., 4., 3.,\n",
       "       3., 3., 3., 3., 2., 3., 2., 3., 3., 3., 2., 2., 2., 2., 2., 2., 3.,\n",
       "       3., 2., 2., 2., 2., 3., 2., 2., 2., 2., 2., 3., 3., 2., 2., 3., 3.,\n",
       "       3., 3., 3., 3., 3., 3., 1., 2., 3., 2., 2., 3., 2., 3., 3., 2., 3.,\n",
       "       2., 2., 2., 1., 2., 2., 2., 2., 2., 2., 3., 2., 3., 1., 2., 2., 3.,\n",
       "       2., 3., 2., 3., 2., 3., 3., 1., 3., 2., 3., 3., 3., 3., 3., 3., 3.,\n",
       "       3., 2., 2., 2., 2., 2., 3., 3., 3., 2., 2., 2., 3., 2., 2., 2., 3.,\n",
       "       2., 3., 1., 3., 2., 3., 3., 2., 2., 3., 2., 2., 3., 2., 3., 2., 3.,\n",
       "       3., 2., 3., 3., 2., 2., 2., 3., 2., 3., 3., 2., 2., 3., 3., 3., 3.,\n",
       "       3., 2., 3., 2., 3., 2., 3., 3., 2., 3., 3., 2., 2., 3., 3., 3.])"
      ]
     },
     "execution_count": 37,
     "metadata": {},
     "output_type": "execute_result"
    }
   ],
   "source": [
    "if(y_pred.all()<2.5):\n",
    "    y_pred=np.round(y_pred-0.5)\n",
    "else:\n",
    "    y_pred=np.round(y_pred+0.5)\n",
    "y_pred"
   ]
  },
  {
   "cell_type": "code",
   "execution_count": 38,
   "metadata": {},
   "outputs": [
    {
     "name": "stdout",
     "output_type": "stream",
     "text": [
      "Error= 12.16 %\n"
     ]
    }
   ],
   "source": [
    "df=(y_pred-y_test)/y_test\n",
    "df=round(df.mean()*100,2)\n",
    "print(\"Error=\",df,\"%\")"
   ]
  },
  {
   "cell_type": "code",
   "execution_count": 39,
   "metadata": {},
   "outputs": [
    {
     "name": "stdout",
     "output_type": "stream",
     "text": [
      "Accuracy= 87.84 %\n"
     ]
    }
   ],
   "source": [
    "a=100-df\n",
    "print(\"Accuracy=\",a,\"%\")"
   ]
  },
  {
   "cell_type": "code",
   "execution_count": null,
   "metadata": {},
   "outputs": [],
   "source": []
  }
 ],
 "metadata": {
  "kernelspec": {
   "display_name": "Python 3",
   "language": "python",
   "name": "python3"
  },
  "language_info": {
   "codemirror_mode": {
    "name": "ipython",
    "version": 3
   },
   "file_extension": ".py",
   "mimetype": "text/x-python",
   "name": "python",
   "nbconvert_exporter": "python",
   "pygments_lexer": "ipython3",
   "version": "3.7.3"
  }
 },
 "nbformat": 4,
 "nbformat_minor": 2
}
